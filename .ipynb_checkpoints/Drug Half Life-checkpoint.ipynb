{
 "cells": [
  {
   "cell_type": "markdown",
   "metadata": {},
   "source": [
    "First test building half life calculator"
   ]
  },
  {
   "cell_type": "code",
   "execution_count": 2,
   "metadata": {},
   "outputs": [],
   "source": [
    "import numpy as np\n",
    "#import pandas as pd\n",
    "#import csv"
   ]
  },
  {
   "cell_type": "code",
   "execution_count": 8,
   "metadata": {},
   "outputs": [
    {
     "name": "stdout",
     "output_type": "stream",
     "text": [
      "0.057762265046662105\n",
      "50.0\n"
     ]
    }
   ],
   "source": [
    "def ln(numb):\n",
    "    return np.log(numb)\n",
    "\n",
    "#first order reaction, half life 12 hours\n",
    "cStart = 100 #initial concentration\n",
    "cEnd = 50 #final concentration\n",
    "hfL = 12 #half life\n",
    "\n",
    "#calculate the decay constant\n",
    "k = ln(2)/hfL\n",
    "print(k)\n",
    "\n",
    "def finalC(intialC):\n",
    "    return intialC*np.exp(-1*k*hfL)\n",
    "\n",
    "print(finalC(100))"
   ]
  }
 ],
 "metadata": {
  "kernelspec": {
   "display_name": "Python 3",
   "language": "python",
   "name": "python3"
  },
  "language_info": {
   "codemirror_mode": {
    "name": "ipython",
    "version": 3
   },
   "file_extension": ".py",
   "mimetype": "text/x-python",
   "name": "python",
   "nbconvert_exporter": "python",
   "pygments_lexer": "ipython3",
   "version": "3.5.2"
  }
 },
 "nbformat": 4,
 "nbformat_minor": 2
}
