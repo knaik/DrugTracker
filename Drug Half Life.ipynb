{
 "cells": [
  {
   "cell_type": "markdown",
   "metadata": {},
   "source": [
    "First test building half life calculator"
   ]
  },
  {
   "cell_type": "code",
   "execution_count": 16,
   "metadata": {},
   "outputs": [],
   "source": [
    "import numpy as np\n",
    "import matplotlib.pyplot as plt\n",
    "import time\n",
    "import datetime\n",
    "#import pandas as pd\n",
    "#import csv"
   ]
  },
  {
   "cell_type": "code",
   "execution_count": 2,
   "metadata": {},
   "outputs": [
    {
     "name": "stdout",
     "output_type": "stream",
     "text": [
      "0.057762265046662105\n",
      "50.0\n",
      "[100.    50.    25.    12.5    6.25]\n"
     ]
    }
   ],
   "source": [
    "def ln(numb):\n",
    "    return np.log(numb)\n",
    "\n",
    "#first order reaction, half life 12 hours\n",
    "cStart = 100 #initial concentration\n",
    "cEnd = 50 #final concentration\n",
    "hfL = 12 #half life\n",
    "\n",
    "#calculate the decay constant\n",
    "k = ln(2)/hfL\n",
    "print(k)\n",
    "\n",
    "def finalC(intialC):\n",
    "    return intialC*np.exp(-1*k*hfL)\n",
    "\n",
    "print(finalC(100))\n",
    "\n",
    "#tAr = np.array([12,24,36,48]) #time array we want\n",
    "tAr = np.linspace(0,48,5)\n",
    "\n",
    "#general time array calc\n",
    "def finAr(initialC,Arr):\n",
    "    return initialC*np.exp(-1*k*Arr)\n",
    "\n",
    "finCon = finAr(100,tAr) #final concentrations\n",
    "print(finCon)"
   ]
  },
  {
   "cell_type": "code",
   "execution_count": 3,
   "metadata": {},
   "outputs": [
    {
     "data": {
      "text/plain": [
       "<function matplotlib.pyplot.show(*args, **kw)>"
      ]
     },
     "execution_count": 3,
     "metadata": {},
     "output_type": "execute_result"
    },
    {
     "data": {
      "image/png": "[encoded data removed]",
      "text/plain": [
       "<Figure size 432x288 with 1 Axes>"
      ]
     },
     "metadata": {
      "needs_background": "light"
     },
     "output_type": "display_data"
    }
   ],
   "source": [
    "x = tAr\n",
    "y = finCon\n",
    "\n",
    "plt.plot(x,y,'o')\n",
    "plt.ylim([0,110])\n",
    "plt.show"
   ]
  },
  {
   "cell_type": "code",
   "execution_count": 17,
   "metadata": {},
   "outputs": [
    {
     "name": "stdout",
     "output_type": "stream",
     "text": [
      "50.0\n",
      "[100.          91.70040432  84.08964153  77.11054127  70.71067812\n",
      "  64.84197773  59.46035575  54.52538663  50.        ]\n"
     ]
    }
   ],
   "source": [
    "def ln(numb):\n",
    "    return np.log(numb)\n",
    "\n",
    "def half(drug):\n",
    "    n = 0\n",
    "    if(drug == \"ibu\"):\n",
    "        n = 8\n",
    "    return n\n",
    "\n",
    "#k = ln(2)/half(\"ibu\") #need user input at this point, calculates constant\n",
    "\n",
    "#print(dose[0])\n",
    "\n",
    "deltaT = time.clock() - \n",
    "\n",
    "def newIN(drug, iDose, tSinceTaken):\n",
    "    hfl = half(drug)\n",
    "    k = ln(2)/hfl\n",
    "    finalC = iDose*np.exp(-1*k*tSinceTaken)\n",
    "    return finalC\n",
    "\n",
    "print(newIN(\"ibu\",100,8))\n",
    "\n",
    "\n",
    "\n",
    "print(newIN(\"ibu\",100,np.array([0,1,2,3,4,5,6,7,8])))"
   ]
  },
  {
   "cell_type": "code",
   "execution_count": null,
   "metadata": {},
   "outputs": [],
   "source": []
  }
 ],
 "metadata": {
  "kernelspec": {
   "display_name": "Python 3",
   "language": "python",
   "name": "python3"
  },
  "language_info": {
   "codemirror_mode": {
    "name": "ipython",
    "version": 3
   },
   "file_extension": ".py",
   "mimetype": "text/x-python",
   "name": "python",
   "nbconvert_exporter": "python",
   "pygments_lexer": "ipython3",
   "version": "3.5.2"
  }
 },
 "nbformat": 4,
 "nbformat_minor": 2
}
