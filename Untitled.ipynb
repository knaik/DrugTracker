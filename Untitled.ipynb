{
 "cells": [
  {
   "cell_type": "markdown",
   "metadata": {},
   "source": [
    "Trying half life calculations in java"
   ]
  },
  {
   "cell_type": "code",
   "execution_count": 21,
   "metadata": {},
   "outputs": [
    {
     "name": "stdout",
     "output_type": "stream",
     "text": [
      "40.0\n"
     ]
    }
   ],
   "source": [
    "class Drug{\n",
    "    float amount;\n",
    "    int halfLife;\n",
    "    \n",
    "    Drug(){\n",
    "        amount = 0;\n",
    "        halfLife = 0;\n",
    "    }\n",
    "    \n",
    "    Drug(float amt, int hL ){\n",
    "        amount = amt;\n",
    "        halfLife = hL;\n",
    "    }\n",
    "    \n",
    "    public static double finC(Drug dd,int t){\n",
    "        double k = Math.log(2)/dd.halfLife;\n",
    "        double fin = dd.amount*Math.exp(-1*k*t);\n",
    "        return fin;\n",
    "    }\n",
    "   \n",
    "}\n",
    "\n",
    "\n",
    "\n",
    "Drug Ibu = new Drug(80, 8);\n",
    "\n",
    "\n",
    "\n",
    "System.out.println(Ibu.finC(Ibu,8));\n"
   ]
  },
  {
   "cell_type": "code",
   "execution_count": null,
   "metadata": {},
   "outputs": [],
   "source": []
  }
 ],
 "metadata": {
  "kernelspec": {
   "display_name": "Java",
   "language": "java",
   "name": "java"
  },
  "language_info": {
   "codemirror_mode": "java",
   "file_extension": ".java",
   "mimetype": "text/x-java-source",
   "name": "Java",
   "pygments_lexer": "java",
   "version": "9.0.4+11"
  }
 },
 "nbformat": 4,
 "nbformat_minor": 2
}
